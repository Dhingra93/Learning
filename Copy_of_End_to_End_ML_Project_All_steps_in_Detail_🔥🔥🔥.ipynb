{
  "metadata": {
    "kernelspec": {
      "language": "python",
      "display_name": "Python 3",
      "name": "python3"
    },
    "language_info": {
      "pygments_lexer": "ipython3",
      "nbconvert_exporter": "python",
      "version": "3.6.4",
      "file_extension": ".py",
      "codemirror_mode": {
        "name": "ipython",
        "version": 3
      },
      "name": "python",
      "mimetype": "text/x-python"
    },
    "colab": {
      "provenance": []
    }
  },
  "nbformat_minor": 0,
  "nbformat": 4,
  "cells": [
    {
      "source": [
        "# IMPORTANT: RUN THIS CELL IN ORDER TO IMPORT YOUR KAGGLE DATA SOURCES,\n",
        "# THEN FEEL FREE TO DELETE THIS CELL.\n",
        "# NOTE: THIS NOTEBOOK ENVIRONMENT DIFFERS FROM KAGGLE'S PYTHON\n",
        "# ENVIRONMENT SO THERE MAY BE MISSING LIBRARIES USED BY YOUR\n",
        "# NOTEBOOK.\n",
        "import kagglehub\n",
        "camnugent_california_housing_prices_path = kagglehub.dataset_download('camnugent/california-housing-prices')\n",
        "\n",
        "print('Data source import complete.')\n",
        "#try"
      ],
      "metadata": {
        "id": "_03NNfvzg3xC"
      },
      "cell_type": "code",
      "outputs": [],
      "execution_count": null
    },
    {
      "cell_type": "markdown",
      "source": [
        "# A complete Guide to End-to-End Machine Learning Project."
      ],
      "metadata": {
        "id": "uVePud9rg3xE"
      }
    },
    {
      "cell_type": "markdown",
      "source": [
        "* In this Notebook, we are going to Build an End-to-End Machine Learning Project.\n",
        "* This notebook will help you how to think while working on End-to-End machine Leanring Project.\n",
        "* This Notebook will help you to Analyze details from business point of view rathet then just modeling.\n",
        "* Let's say you are working as a data scientist in Real Estate Company.\n",
        "* Main steps we will go through\n",
        "\n",
        "1. Look at the big picture.\n",
        "2. Get the data.\n",
        "3. Discover and visualize the data to gain insights.\n",
        "4. Prepare the data for Machine Learning algorithms.\n",
        "5. Select a model and train it.\n",
        "6. Fine-tune your model.\n",
        "7. Test your model on Test Dataset."
      ],
      "metadata": {
        "execution": {
          "iopub.status.busy": "2022-06-15T14:34:32.19673Z",
          "iopub.execute_input": "2022-06-15T14:34:32.197247Z",
          "iopub.status.idle": "2022-06-15T14:34:32.232537Z",
          "shell.execute_reply.started": "2022-06-15T14:34:32.197145Z",
          "shell.execute_reply": "2022-06-15T14:34:32.22987Z"
        },
        "id": "_1tz-c06g3xF"
      }
    },
    {
      "cell_type": "markdown",
      "source": [
        "**IF YOU GAIN SOME KNOWLEDGE FROM THE NOTEBBOK THEN PLEASE UPVOTE IT.**"
      ],
      "metadata": {
        "id": "xLw9gNfig3xG"
      }
    },
    {
      "cell_type": "markdown",
      "source": [
        "# 1. Look at the Big Picture"
      ],
      "metadata": {
        "id": "DDCDDFRQg3xG"
      }
    },
    {
      "cell_type": "markdown",
      "source": [
        "![image.png](attachment:6bdd805f-8586-4351-bfaf-82d704afdf99.png)"
      ],
      "metadata": {
        "id": "fAW_1Kc_g3xH"
      }
    },
    {
      "cell_type": "markdown",
      "source": [
        "## TASK: As a Data scientist your task is to build a model of housing prices in California using the California census data."
      ],
      "metadata": {
        "id": "vzbxixnyg3xH"
      }
    },
    {
      "cell_type": "markdown",
      "source": [
        "* This data has metrics such as the population, median income, median housing\n",
        "price, and so on for each block group in California.\n",
        "* Block groups are the smallest geographical unit for which the US Census Bureau publishes sample data.\n",
        "* We will just call them “districts” for short.\n",
        "* Your model should learn from this data and be able to predict the `median housing`\n",
        "price in any district, given all the other metrics."
      ],
      "metadata": {
        "id": "XRxbcdzAg3xH"
      }
    },
    {
      "cell_type": "markdown",
      "source": [
        "## Frame the Problem"
      ],
      "metadata": {
        "id": "rko8O95rg3xI"
      }
    },
    {
      "cell_type": "markdown",
      "source": [
        "* First, ask your Boss. What is the **Business objective** of this Model?. How does the company expect to use and `benefit from this model`?\n",
        "* Building the Model is not only your end Goal"
      ],
      "metadata": {
        "id": "cZ8dINRXg3xJ"
      }
    },
    {
      "cell_type": "markdown",
      "source": [
        "* Answering the above questions will help you decide what algorithms you will select, what performance measure you will use to\n",
        "evaluate your model, and how much effort you should spend tweaking it."
      ],
      "metadata": {
        "id": "00N9QSEJg3xJ"
      }
    },
    {
      "cell_type": "markdown",
      "source": [
        "* Your boss answers that your model’s output (a prediction of a district’s median housing\n",
        "price) will be fed to another Machine Learning system along with many other signals.\n",
        "*  This downstream system will determine whether it is worth investing in a given area or not. **Getting this right is critical, as it directly affects revenue.**"
      ],
      "metadata": {
        "id": "5BKLOgpZg3xJ"
      }
    },
    {
      "cell_type": "markdown",
      "source": [
        "![image.png](attachment:d5d99fd1-0b5c-4003-b2a9-460ebd2d1bf8.png)"
      ],
      "metadata": {
        "id": "lHEeX-7tg3xJ"
      }
    },
    {
      "cell_type": "markdown",
      "source": [
        "* This task seems to be a Multiple Regression Problem.\n",
        "* Next, we have to Select  a Perfromance Measure.\n",
        "* A typical performance measure for regression problems is the **Root Mean Square Error (RMSE)**.\n"
      ],
      "metadata": {
        "id": "3Dj4_Fhug3xJ"
      }
    },
    {
      "cell_type": "markdown",
      "source": [
        "# 2. Get the Data"
      ],
      "metadata": {
        "id": "G0kpalpDg3xK"
      }
    },
    {
      "cell_type": "code",
      "source": [
        "#import libraries\n",
        "import pandas as pd\n",
        "import numpy as np\n",
        "import matplotlib.pyplot as plt\n",
        "\n",
        "%matplotlib inline\n",
        "import seaborn as sns\n",
        "\n",
        "from sklearn.model_selection import train_test_split"
      ],
      "metadata": {
        "execution": {
          "iopub.status.busy": "2022-06-27T04:08:15.628196Z",
          "iopub.execute_input": "2022-06-27T04:08:15.628706Z",
          "iopub.status.idle": "2022-06-27T04:08:16.750082Z",
          "shell.execute_reply.started": "2022-06-27T04:08:15.628659Z",
          "shell.execute_reply": "2022-06-27T04:08:16.749133Z"
        },
        "trusted": true,
        "id": "IOeSzWoRg3xK"
      },
      "execution_count": null,
      "outputs": []
    },
    {
      "cell_type": "code",
      "source": [
        "df=pd.read_csv('../input/california-housing-prices/housing.csv')"
      ],
      "metadata": {
        "execution": {
          "iopub.status.busy": "2022-06-27T04:08:16.751554Z",
          "iopub.execute_input": "2022-06-27T04:08:16.752069Z",
          "iopub.status.idle": "2022-06-27T04:08:16.826277Z",
          "shell.execute_reply.started": "2022-06-27T04:08:16.752038Z",
          "shell.execute_reply": "2022-06-27T04:08:16.825308Z"
        },
        "trusted": true,
        "id": "DJRwMZT3g3xK"
      },
      "execution_count": null,
      "outputs": []
    },
    {
      "cell_type": "markdown",
      "source": [
        "#### Let's look into the data"
      ],
      "metadata": {
        "id": "CYkmlGVVg3xK"
      }
    },
    {
      "cell_type": "code",
      "source": [
        "df"
      ],
      "metadata": {
        "execution": {
          "iopub.status.busy": "2022-06-27T04:08:16.827373Z",
          "iopub.execute_input": "2022-06-27T04:08:16.827694Z",
          "iopub.status.idle": "2022-06-27T04:08:16.87633Z",
          "shell.execute_reply.started": "2022-06-27T04:08:16.827665Z",
          "shell.execute_reply": "2022-06-27T04:08:16.875332Z"
        },
        "trusted": true,
        "id": "GXbMIqssg3xK"
      },
      "execution_count": null,
      "outputs": []
    },
    {
      "cell_type": "code",
      "source": [
        "df.info()"
      ],
      "metadata": {
        "execution": {
          "iopub.status.busy": "2022-06-27T04:08:16.878309Z",
          "iopub.execute_input": "2022-06-27T04:08:16.87874Z",
          "iopub.status.idle": "2022-06-27T04:08:16.909039Z",
          "shell.execute_reply.started": "2022-06-27T04:08:16.878697Z",
          "shell.execute_reply": "2022-06-27T04:08:16.908122Z"
        },
        "trusted": true,
        "id": "Tig-0s7Tg3xK"
      },
      "execution_count": null,
      "outputs": []
    },
    {
      "cell_type": "markdown",
      "source": [
        "### Inference:\n",
        "1. There are 20,640 instances in the dataset.\n",
        "2.`total_bed` rooms attribute has only 20,433 non-null values, meaning that 207 districts are missing\n",
        "this feature.\n",
        "3. All attributes are numerical, except the `ocean_proximity`."
      ],
      "metadata": {
        "id": "YVOB5F11g3xL"
      }
    },
    {
      "cell_type": "code",
      "source": [
        "df[\"ocean_proximity\"].value_counts()"
      ],
      "metadata": {
        "execution": {
          "iopub.status.busy": "2022-06-27T04:08:16.91041Z",
          "iopub.execute_input": "2022-06-27T04:08:16.910898Z",
          "iopub.status.idle": "2022-06-27T04:08:16.920671Z",
          "shell.execute_reply.started": "2022-06-27T04:08:16.910859Z",
          "shell.execute_reply": "2022-06-27T04:08:16.919822Z"
        },
        "trusted": true,
        "id": "yspFy7vBg3xL"
      },
      "execution_count": null,
      "outputs": []
    },
    {
      "cell_type": "code",
      "source": [
        "df.describe()"
      ],
      "metadata": {
        "execution": {
          "iopub.status.busy": "2022-06-27T04:08:16.922006Z",
          "iopub.execute_input": "2022-06-27T04:08:16.923346Z",
          "iopub.status.idle": "2022-06-27T04:08:16.974071Z",
          "shell.execute_reply.started": "2022-06-27T04:08:16.923302Z",
          "shell.execute_reply": "2022-06-27T04:08:16.97316Z"
        },
        "trusted": true,
        "id": "wo1glxuHg3xL"
      },
      "execution_count": null,
      "outputs": []
    },
    {
      "cell_type": "markdown",
      "source": [
        "* Another quick way to get a feel of the type of data you are dealing with is to plot a histogram for each numerical attribute.\n",
        "* You can call the `hist()` method on the whole dataset, and it will plot a histogram for each `numerical attribute`."
      ],
      "metadata": {
        "id": "JTmxq1Z3g3xL"
      }
    },
    {
      "cell_type": "code",
      "source": [
        "df.hist(bins=50, figsize=(20,15))"
      ],
      "metadata": {
        "execution": {
          "iopub.status.busy": "2022-06-27T04:08:16.97536Z",
          "iopub.execute_input": "2022-06-27T04:08:16.976377Z",
          "iopub.status.idle": "2022-06-27T04:08:19.094816Z",
          "shell.execute_reply.started": "2022-06-27T04:08:16.976332Z",
          "shell.execute_reply": "2022-06-27T04:08:19.093244Z"
        },
        "trusted": true,
        "id": "9fDL6y3eg3xL"
      },
      "execution_count": null,
      "outputs": []
    },
    {
      "cell_type": "markdown",
      "source": [
        "### Inference made from these histograms"
      ],
      "metadata": {
        "id": "LcUyaTh6g3xM"
      }
    },
    {
      "cell_type": "markdown",
      "source": [
        "1. First, the `median income` attribute does not look like it is expressed in `US dollars (USD)`. After checking with the team that collected the data, you are told that the data has been scaled and capped at 15 (actually 15.0001) for higher median incomes, and at 0.5 (actually 0.4999) for lower median incomes. The numbers represent roughly tens of thousands of dollars (e.g., 3 actually means about\n",
        "$30,000).\n",
        "    * Working with preprocessed attributes is common in Machine Learning, Get the Data  and it is not necessarily a problem, **but you should try to understand how the data was computed**.\n",
        "    \n",
        "2. The `housing median age` and the `median house value` were also capped. The latter may be a serious problem since it is your target attribute (your labels). Your Machine Learning algorithms may learn that prices never go beyond that limit. You need to check with your client team (the team that will use your system’s output) to see if this is a problem or not. If they tell you that they need precise predictions even beyond $\\$$500,000, then you have mainly two options: </br>\n",
        ">     a.  Collect proper labels for the districts whose labels were capped.\n",
        ">     b.  Remove those districts from the training set (and also from the test set, since your system should not be evaluated poorly if it predicts values beyond $\\$$500,000).\n",
        "\n",
        "3. These attributes have very different scales. We will discuss this later in this notebook\n",
        "when we explore **feature scaling**.\n",
        "\n",
        "4. Finally, many histograms are `tail heavy`: they extend much farther to the right of\n",
        "the median than to the left. This may make it a bit harder for some Machine\n",
        "Learning algorithms to detect patterns. We will try transforming these attributes\n",
        "later on to have more bell-shaped distributions."
      ],
      "metadata": {
        "id": "SuSYjIoig3xM"
      }
    },
    {
      "cell_type": "markdown",
      "source": [
        "**NOTE: Before doing anything with data. Let's create a test set and never look at it to avoid bias.**"
      ],
      "metadata": {
        "id": "IEmjog3Zg3xM"
      }
    },
    {
      "cell_type": "markdown",
      "source": [
        "## Create test set\n"
      ],
      "metadata": {
        "id": "GnaO1qFYg3xM"
      }
    },
    {
      "cell_type": "code",
      "source": [
        "train_set, test_set = train_test_split(df, test_size=0.2, random_state=42,stratify=None)"
      ],
      "metadata": {
        "execution": {
          "iopub.status.busy": "2022-06-27T04:08:19.095988Z",
          "iopub.execute_input": "2022-06-27T04:08:19.096306Z",
          "iopub.status.idle": "2022-06-27T04:08:19.10627Z",
          "shell.execute_reply.started": "2022-06-27T04:08:19.096278Z",
          "shell.execute_reply": "2022-06-27T04:08:19.105267Z"
        },
        "trusted": true,
        "id": "yPJYmEcCg3xM"
      },
      "execution_count": null,
      "outputs": []
    },
    {
      "cell_type": "markdown",
      "source": [
        "### Points to consider while doing train_test_split\n",
        "* So far we have considered purely random sampling methods. This is generally fine if\n",
        "your dataset is large enough (especially relative to the number of attributes), but if it\n",
        "is not, you run the risk of introducing a significant sampling bias.\n",
        "* When a survey company decides to call 1,000 people to ask them a few questions, they don’t just pick\n",
        "1,000 people randomly in a phone book. They try to ensure that these 1,000 people\n",
        "are representative of the whole population.\n",
        "* For example, the US population is composed\n",
        "of 51.3% female and 48.7% male, so a well-conducted survey in the US would\n",
        "try to maintain this ratio in the sample: 513 female and 487 male. **This is called stratified\n",
        "sampling: the population is divided into homogeneous subgroups called strata,\n",
        "and the right number of instances is sampled from each stratum to guarantee that the\n",
        "test set is representative of the overall population.**"
      ],
      "metadata": {
        "id": "huTCz5dDg3xM"
      }
    },
    {
      "cell_type": "markdown",
      "source": [
        "#### Business insights\n",
        "* Suppose you chatted with experts who told you that the median income is a very\n",
        "important attribute to predict median housing prices.\n",
        "* You may want to ensure that\n",
        "the test set is representative of the various categories of incomes in the whole dataset.\n",
        "* Since the median income is a `continuous numerical attribute`, you first need to **create\n",
        "an income category attribute**.\n",
        "* Let’s look at the median income histogram more closely\n",
        "(back in Figure of histograms): most median income values are clustered around 1.5 to 6 (i.e.,\n",
        "$15,000–$60,000), but some median incomes go far beyond 6.\n",
        "* It is important to have\n",
        "a sufficient number of instances in your dataset for each stratum, or else the estimate\n",
        "of the stratum’s importance may be biased. This means that you should not have too\n",
        "many strata, and each stratum should be large enough.\n",
        "* The following code uses the\n",
        "pd.cut() function to create an income category attribute with 5 categories (labeled\n",
        "from 1 to 5): category 1 ranges from 0 to 1.5 (i.e., less than $15,000), category 2 from 1.5 to 3, and so on:"
      ],
      "metadata": {
        "id": "d71NTHfVg3xM"
      }
    },
    {
      "cell_type": "code",
      "source": [
        "# Bin values into discrete intervals.\n",
        "df[\"income_cat\"] = pd.cut(df[\"median_income\"], bins=[0., 1.5, 3.0, 4.5, 6., np.inf], labels=[1, 2, 3, 4, 5])  #cut the median income across bins and give labels to each bin"
      ],
      "metadata": {
        "execution": {
          "iopub.status.busy": "2022-06-27T04:08:19.107704Z",
          "iopub.execute_input": "2022-06-27T04:08:19.108196Z",
          "iopub.status.idle": "2022-06-27T04:08:19.119719Z",
          "shell.execute_reply.started": "2022-06-27T04:08:19.108164Z",
          "shell.execute_reply": "2022-06-27T04:08:19.118979Z"
        },
        "trusted": true,
        "id": "ts90CHy9g3xN"
      },
      "execution_count": null,
      "outputs": []
    },
    {
      "cell_type": "code",
      "source": [
        "df[\"income_cat\"].hist()"
      ],
      "metadata": {
        "execution": {
          "iopub.status.busy": "2022-06-27T04:08:19.123464Z",
          "iopub.execute_input": "2022-06-27T04:08:19.124046Z",
          "iopub.status.idle": "2022-06-27T04:08:19.339611Z",
          "shell.execute_reply.started": "2022-06-27T04:08:19.124001Z",
          "shell.execute_reply": "2022-06-27T04:08:19.338696Z"
        },
        "trusted": true,
        "id": "T1OOKouXg3xN"
      },
      "execution_count": null,
      "outputs": []
    },
    {
      "cell_type": "markdown",
      "source": [
        "Now, Let's  do `stratified sampling` based on the income category. For this\n",
        "you can use Scikit-Learn’s `StratifiedShuffleSplit` class:"
      ],
      "metadata": {
        "id": "L_d2xL0ag3xN"
      }
    },
    {
      "cell_type": "code",
      "source": [
        "from sklearn.model_selection import StratifiedShuffleSplit\n",
        "\n",
        "split = StratifiedShuffleSplit(n_splits=1, test_size=0.2, random_state=42)  # Provides train/test indices to split data in train/test sets.\n",
        "for train_index, test_index in split.split(df, df[\"income_cat\"]):\n",
        "    strat_train_set = df.loc[train_index]\n",
        "    strat_test_set = df.loc[test_index]"
      ],
      "metadata": {
        "execution": {
          "iopub.status.busy": "2022-06-27T04:08:19.341175Z",
          "iopub.execute_input": "2022-06-27T04:08:19.341769Z",
          "iopub.status.idle": "2022-06-27T04:08:19.366595Z",
          "shell.execute_reply.started": "2022-06-27T04:08:19.341726Z",
          "shell.execute_reply": "2022-06-27T04:08:19.365645Z"
        },
        "trusted": true,
        "id": "-HCV9T_Tg3xN"
      },
      "execution_count": null,
      "outputs": []
    },
    {
      "cell_type": "code",
      "source": [
        "strat_test_set[\"income_cat\"].value_counts() / len(strat_test_set)"
      ],
      "metadata": {
        "execution": {
          "iopub.status.busy": "2022-06-27T04:08:19.367715Z",
          "iopub.execute_input": "2022-06-27T04:08:19.368044Z",
          "iopub.status.idle": "2022-06-27T04:08:19.377969Z",
          "shell.execute_reply.started": "2022-06-27T04:08:19.368015Z",
          "shell.execute_reply": "2022-06-27T04:08:19.376919Z"
        },
        "trusted": true,
        "id": "OH6MIfz2g3xN"
      },
      "execution_count": null,
      "outputs": []
    },
    {
      "cell_type": "code",
      "source": [
        "strat_train_set[\"income_cat\"].value_counts() / len(strat_train_set)"
      ],
      "metadata": {
        "execution": {
          "iopub.status.busy": "2022-06-27T04:08:19.379698Z",
          "iopub.execute_input": "2022-06-27T04:08:19.380243Z",
          "iopub.status.idle": "2022-06-27T04:08:19.394036Z",
          "shell.execute_reply.started": "2022-06-27T04:08:19.380202Z",
          "shell.execute_reply": "2022-06-27T04:08:19.393144Z"
        },
        "trusted": true,
        "id": "40r5pnxNg3xN"
      },
      "execution_count": null,
      "outputs": []
    },
    {
      "cell_type": "markdown",
      "source": [
        "You can see the proportion of each class is same in train and test set and it is also same in df(you can check)."
      ],
      "metadata": {
        "id": "bTOrtqNDg3xN"
      }
    },
    {
      "cell_type": "markdown",
      "source": [
        "* Now you should remove the `income_cat` attribute so the data is back to its original\n",
        "state:"
      ],
      "metadata": {
        "execution": {
          "iopub.status.busy": "2022-06-16T03:51:04.319573Z",
          "iopub.execute_input": "2022-06-16T03:51:04.320842Z",
          "iopub.status.idle": "2022-06-16T03:51:04.328322Z",
          "shell.execute_reply.started": "2022-06-16T03:51:04.320791Z",
          "shell.execute_reply": "2022-06-16T03:51:04.326718Z"
        },
        "id": "r1m38O8_g3xV"
      }
    },
    {
      "cell_type": "code",
      "source": [
        "for set_ in (strat_train_set, strat_test_set):\n",
        "    set_.drop(\"income_cat\", axis=1, inplace=True)\n"
      ],
      "metadata": {
        "execution": {
          "iopub.status.busy": "2022-06-27T04:08:19.39537Z",
          "iopub.execute_input": "2022-06-27T04:08:19.396262Z",
          "iopub.status.idle": "2022-06-27T04:08:19.403084Z",
          "shell.execute_reply.started": "2022-06-27T04:08:19.396229Z",
          "shell.execute_reply": "2022-06-27T04:08:19.402454Z"
        },
        "trusted": true,
        "id": "4jzqIwl8g3xV"
      },
      "execution_count": null,
      "outputs": []
    },
    {
      "cell_type": "markdown",
      "source": [
        "* We spent quite a bit of time on test set generation for a good reason: this is an often\n",
        "neglected but critical part of a Machine Learning project.\n",
        "* Moreover, many of these\n",
        "ideas will be useful later when we discuss cross-validation.\n",
        "* Now it’s time to move on\n",
        "to the next stage: exploring the data."
      ],
      "metadata": {
        "id": "RIQbXNvxg3xV"
      }
    },
    {
      "cell_type": "markdown",
      "source": [
        "# Discover and Visualize the Data to Gain Insights"
      ],
      "metadata": {
        "id": "z25_g5vwg3xV"
      }
    },
    {
      "cell_type": "code",
      "source": [
        "# Let’s create a copy so you can play with it without harming the training set:\n",
        "housing = strat_train_set.copy()"
      ],
      "metadata": {
        "execution": {
          "iopub.status.busy": "2022-06-27T04:08:19.404421Z",
          "iopub.execute_input": "2022-06-27T04:08:19.404722Z",
          "iopub.status.idle": "2022-06-27T04:08:19.411886Z",
          "shell.execute_reply.started": "2022-06-27T04:08:19.404694Z",
          "shell.execute_reply": "2022-06-27T04:08:19.410984Z"
        },
        "trusted": true,
        "id": "CjsScBfMg3xV"
      },
      "execution_count": null,
      "outputs": []
    },
    {
      "cell_type": "markdown",
      "source": [
        "### VIsualizing the Geographical data"
      ],
      "metadata": {
        "id": "u1Wl7a9Jg3xV"
      }
    },
    {
      "cell_type": "code",
      "source": [
        "housing.plot(kind='scatter',x='longitude',y='latitude')"
      ],
      "metadata": {
        "execution": {
          "iopub.status.busy": "2022-06-27T04:08:19.413045Z",
          "iopub.execute_input": "2022-06-27T04:08:19.413373Z",
          "iopub.status.idle": "2022-06-27T04:08:19.632853Z",
          "shell.execute_reply.started": "2022-06-27T04:08:19.413345Z",
          "shell.execute_reply": "2022-06-27T04:08:19.632152Z"
        },
        "trusted": true,
        "id": "WeHHnkAig3xV"
      },
      "execution_count": null,
      "outputs": []
    },
    {
      "cell_type": "markdown",
      "source": [
        "Setting the alpha option to 0.1 makes it much easier to visualize the places\n",
        "where there is a high density of data points (Figure 2-12):\n",
        "    "
      ],
      "metadata": {
        "id": "YYZRuQxpg3xV"
      }
    },
    {
      "cell_type": "code",
      "source": [
        "housing.plot(kind=\"scatter\", x=\"longitude\", y=\"latitude\", alpha=0.1)"
      ],
      "metadata": {
        "execution": {
          "iopub.status.busy": "2022-06-27T04:08:19.634131Z",
          "iopub.execute_input": "2022-06-27T04:08:19.6349Z",
          "iopub.status.idle": "2022-06-27T04:08:19.850275Z",
          "shell.execute_reply.started": "2022-06-27T04:08:19.634864Z",
          "shell.execute_reply": "2022-06-27T04:08:19.849618Z"
        },
        "trusted": true,
        "id": "uXj7Fis-g3xW"
      },
      "execution_count": null,
      "outputs": []
    },
    {
      "cell_type": "markdown",
      "source": [
        "**TIP: More generally, our brains are very good at spotting patterns on pictures, but you may need to play around with visualization parameters to make the patterns stand out.**"
      ],
      "metadata": {
        "id": "LCZNe1_yg3xW"
      }
    },
    {
      "cell_type": "markdown",
      "source": [
        "Now let’s look at the housing prices . The radius of each `circle` represents\n",
        "the `district’s population (option s)`, and the color represents the `price (option c)`. We\n",
        "will use a predefined color map (option cmap) called jet, which ranges from blue\n",
        "(low values) to red (high prices):"
      ],
      "metadata": {
        "id": "B51EXeR1g3xW"
      }
    },
    {
      "cell_type": "code",
      "source": [
        "housing.plot(kind=\"scatter\", x=\"longitude\", y=\"latitude\", alpha=0.4, s=housing[\"population\"]/100,\n",
        "             label=\"population\", figsize=(10,7),c=\"median_house_value\", cmap=plt.get_cmap(\"jet\"), colorbar=True,)\n",
        "plt.legend()"
      ],
      "metadata": {
        "execution": {
          "iopub.status.busy": "2022-06-27T04:08:19.851196Z",
          "iopub.execute_input": "2022-06-27T04:08:19.851834Z",
          "iopub.status.idle": "2022-06-27T04:08:20.506643Z",
          "shell.execute_reply.started": "2022-06-27T04:08:19.851803Z",
          "shell.execute_reply": "2022-06-27T04:08:20.505918Z"
        },
        "trusted": true,
        "id": "E6HQbNwKg3xW"
      },
      "execution_count": null,
      "outputs": []
    },
    {
      "cell_type": "markdown",
      "source": [
        "This image tells you that the housing prices are very much related to the location\n",
        "(e.g., close to the ocean) and to the population density, as you probably knew already."
      ],
      "metadata": {
        "id": "go6IivN4g3xa"
      }
    },
    {
      "cell_type": "markdown",
      "source": [
        "### Looking for correlations"
      ],
      "metadata": {
        "id": "mAS_MZW5g3xa"
      }
    },
    {
      "cell_type": "code",
      "source": [
        "corr_matrix = housing.corr()\n",
        "corr_matrix"
      ],
      "metadata": {
        "execution": {
          "iopub.status.busy": "2022-06-27T04:08:20.50791Z",
          "iopub.execute_input": "2022-06-27T04:08:20.508428Z",
          "iopub.status.idle": "2022-06-27T04:08:20.533892Z",
          "shell.execute_reply.started": "2022-06-27T04:08:20.508395Z",
          "shell.execute_reply": "2022-06-27T04:08:20.532801Z"
        },
        "trusted": true,
        "id": "pIWMFdKkg3xa"
      },
      "execution_count": null,
      "outputs": []
    },
    {
      "cell_type": "code",
      "source": [
        "sns.heatmap(corr_matrix,annot=True)\n",
        "# plt.matshow(corr_matrix)"
      ],
      "metadata": {
        "execution": {
          "iopub.status.busy": "2022-06-27T04:08:20.53532Z",
          "iopub.execute_input": "2022-06-27T04:08:20.535864Z",
          "iopub.status.idle": "2022-06-27T04:08:21.155575Z",
          "shell.execute_reply.started": "2022-06-27T04:08:20.53582Z",
          "shell.execute_reply": "2022-06-27T04:08:21.154937Z"
        },
        "trusted": true,
        "id": "RuYtDfCxg3xb"
      },
      "execution_count": null,
      "outputs": []
    },
    {
      "cell_type": "code",
      "source": [
        "corr_matrix[\"median_house_value\"].sort_values(ascending=False)"
      ],
      "metadata": {
        "execution": {
          "iopub.status.busy": "2022-06-27T04:08:21.156505Z",
          "iopub.execute_input": "2022-06-27T04:08:21.157308Z",
          "iopub.status.idle": "2022-06-27T04:08:21.165005Z",
          "shell.execute_reply.started": "2022-06-27T04:08:21.157273Z",
          "shell.execute_reply": "2022-06-27T04:08:21.164133Z"
        },
        "trusted": true,
        "id": "NJ_3HQSQg3xb"
      },
      "execution_count": null,
      "outputs": []
    },
    {
      "cell_type": "markdown",
      "source": [
        "* The **correlation coefficient** ranges from `–1 to 1`. When it is close to 1, it means that\n",
        "there is a **strong positive correlation**; for example, the median house value tends to go\n",
        "up when the median income goes up.\n",
        "* When the coefficient is close to –1, it means\n",
        "that there is a **strong negative correlation**; you can see a small negative correlation\n",
        "between the latitude and the median house value (i.e., prices have a slight tendency to\n",
        "go down when you go north)."
      ],
      "metadata": {
        "id": "mD7QzOoug3xb"
      }
    },
    {
      "cell_type": "code",
      "source": [
        "housing.plot(kind=\"scatter\", x=\"median_income\", y=\"median_house_value\",\n",
        "alpha=0.1)"
      ],
      "metadata": {
        "execution": {
          "iopub.status.busy": "2022-06-27T04:08:21.166292Z",
          "iopub.execute_input": "2022-06-27T04:08:21.166833Z",
          "iopub.status.idle": "2022-06-27T04:08:21.406265Z",
          "shell.execute_reply.started": "2022-06-27T04:08:21.16679Z",
          "shell.execute_reply": "2022-06-27T04:08:21.405192Z"
        },
        "trusted": true,
        "id": "7qIVAtfCg3xb"
      },
      "execution_count": null,
      "outputs": []
    },
    {
      "cell_type": "markdown",
      "source": [
        "* This plot reveals a few things. First, the correlation is indeed very strong; you can\n",
        "clearly see the upward trend and the points are not too dispersed.\n",
        "* Second, the price\n",
        "cap that we noticed earlier is clearly visible as a horizontal line at $\\$$500,000. But this\n",
        "plot reveals other less obvious straight lines: a horizontal line around $\\$$450,000,\n",
        "another around $\\$$350,000, perhaps one around $\\$$280,000, and a few more below that.\n",
        "* You may want to try removing the corresponding districts to prevent your algorithms\n",
        "from learning to reproduce these data quirks."
      ],
      "metadata": {
        "id": "cjG3y09Ug3xb"
      }
    },
    {
      "cell_type": "markdown",
      "source": [
        "### Experimenting with Attribute Combinations"
      ],
      "metadata": {
        "id": "3UXX47AQg3xb"
      }
    },
    {
      "cell_type": "markdown",
      "source": [
        "* One last thing you may want to do before actually preparing the data for Machine\n",
        "Learning algorithms is to try out various attribute combinations.\n",
        "* For example, the total number of rooms in a district is not very useful if you don’t know how many\n",
        "households there are.\n",
        "* What you really want is the number of rooms per household.\n",
        "* Similarly, the total number of bedrooms by itself is not very useful: you probably\n",
        "want to compare it to the number of rooms.\n",
        "* And the population per household also seems like an interesting attribute combination to look at. Let’s create these new\n",
        "attributes"
      ],
      "metadata": {
        "execution": {
          "iopub.status.busy": "2022-06-20T11:29:53.551471Z",
          "iopub.execute_input": "2022-06-20T11:29:53.553168Z",
          "iopub.status.idle": "2022-06-20T11:29:53.591383Z",
          "shell.execute_reply.started": "2022-06-20T11:29:53.553121Z",
          "shell.execute_reply": "2022-06-20T11:29:53.59011Z"
        },
        "id": "tgp4kc4Fg3xb"
      }
    },
    {
      "cell_type": "code",
      "source": [
        "housing"
      ],
      "metadata": {
        "execution": {
          "iopub.status.busy": "2022-06-27T04:08:21.408018Z",
          "iopub.execute_input": "2022-06-27T04:08:21.408497Z",
          "iopub.status.idle": "2022-06-27T04:08:21.437906Z",
          "shell.execute_reply.started": "2022-06-27T04:08:21.408455Z",
          "shell.execute_reply": "2022-06-27T04:08:21.436986Z"
        },
        "trusted": true,
        "id": "XPCqHIGyg3xb"
      },
      "execution_count": null,
      "outputs": []
    },
    {
      "cell_type": "code",
      "source": [
        "housing[\"rooms_per_household\"]=housing[\"total_rooms\"]/housing[\"households\"]\n",
        "housing[\"bedroom_per_room\"]=housing[\"total_bedrooms\"]/housing[\"total_rooms\"]\n",
        "housing[\"population_per_household\"]=housing[\"population\"]/housing[\"households\"]"
      ],
      "metadata": {
        "execution": {
          "iopub.status.busy": "2022-06-27T04:08:21.439457Z",
          "iopub.execute_input": "2022-06-27T04:08:21.44006Z",
          "iopub.status.idle": "2022-06-27T04:08:21.448403Z",
          "shell.execute_reply.started": "2022-06-27T04:08:21.440017Z",
          "shell.execute_reply": "2022-06-27T04:08:21.447784Z"
        },
        "trusted": true,
        "id": "EhpI9UQ3g3xb"
      },
      "execution_count": null,
      "outputs": []
    },
    {
      "cell_type": "markdown",
      "source": [
        "Let's look correlataion matrix again\n"
      ],
      "metadata": {
        "id": "1AZvRIPUg3xb"
      }
    },
    {
      "cell_type": "code",
      "source": [
        "corr_matrix=housing.corr()"
      ],
      "metadata": {
        "execution": {
          "iopub.status.busy": "2022-06-27T04:08:21.449661Z",
          "iopub.execute_input": "2022-06-27T04:08:21.450431Z",
          "iopub.status.idle": "2022-06-27T04:08:21.466253Z",
          "shell.execute_reply.started": "2022-06-27T04:08:21.450385Z",
          "shell.execute_reply": "2022-06-27T04:08:21.465515Z"
        },
        "trusted": true,
        "id": "GThZ70j6g3xc"
      },
      "execution_count": null,
      "outputs": []
    },
    {
      "cell_type": "code",
      "source": [
        "corr_matrix[\"median_house_value\"].sort_values(ascending=False)"
      ],
      "metadata": {
        "execution": {
          "iopub.status.busy": "2022-06-27T04:08:21.468013Z",
          "iopub.execute_input": "2022-06-27T04:08:21.468613Z",
          "iopub.status.idle": "2022-06-27T04:08:21.477701Z",
          "shell.execute_reply.started": "2022-06-27T04:08:21.468568Z",
          "shell.execute_reply": "2022-06-27T04:08:21.476859Z"
        },
        "trusted": true,
        "id": "CkcfEt-Ig3xc"
      },
      "execution_count": null,
      "outputs": []
    },
    {
      "cell_type": "markdown",
      "source": [
        "**INFERENCE:**\n",
        "* The new bedrooms_per_room attribute is much more correlated with the median house value than the total number of rooms or bedrooms.\n",
        "* Apparently houses with a lower bedroom/room ratio tend to be more expensive.\n",
        "* The number of rooms per household is also more informative than the total number of rooms in a district—obviously the larger the houses, the more expensive they are."
      ],
      "metadata": {
        "id": "sqUEMC8Pg3xc"
      }
    },
    {
      "cell_type": "markdown",
      "source": [
        "# 4. Prepare the Data for Machine Learning Algorithms"
      ],
      "metadata": {
        "id": "fY9Jsw8Ng3xc"
      }
    },
    {
      "cell_type": "markdown",
      "source": [
        "It’s time to prepare the data for your Machine Learning algorithms. Instead of just doing this manually, you should write functions to do that, for several good reasons:\n",
        "* This will allow you to reproduce these transformations easily on any dataset (e.g.,\n",
        "the next time you get a fresh dataset).\n",
        "* You will gradually build a library of transformation functions that you can reuse\n",
        "in future projects.\n",
        "* You can use these functions in your live system to transform the new data before\n",
        "feeding it to your algorithms.\n",
        "* This will make it possible for you to easily try various transformations and see\n",
        "which combination of transformations works best."
      ],
      "metadata": {
        "id": "Lv-XVbHdg3xc"
      }
    },
    {
      "cell_type": "code",
      "source": [
        "housing = strat_train_set.drop(\"median_house_value\", axis=1)     #drop copy the orignal datframe into housing\n",
        "housing_labels = strat_train_set[\"median_house_value\"].copy()    # splitting the predictor and  target variable"
      ],
      "metadata": {
        "execution": {
          "iopub.status.busy": "2022-06-27T04:08:21.479197Z",
          "iopub.execute_input": "2022-06-27T04:08:21.479608Z",
          "iopub.status.idle": "2022-06-27T04:08:21.488582Z",
          "shell.execute_reply.started": "2022-06-27T04:08:21.479568Z",
          "shell.execute_reply": "2022-06-27T04:08:21.487915Z"
        },
        "trusted": true,
        "id": "d4ebIAlvg3xc"
      },
      "execution_count": null,
      "outputs": []
    },
    {
      "cell_type": "markdown",
      "source": [
        "### Data Cleaning"
      ],
      "metadata": {
        "id": "SovOLbZeg3xc"
      }
    },
    {
      "cell_type": "markdown",
      "source": [
        "* First, Ml algo. doesn't work with missing features, so let's create a few functions to take care of them.\n",
        "* You noticed earlier that the total_bedrooms\n",
        "attribute has some missing values, so let’s fix this. You have three options:\n",
        "* Get rid of the corresponding districts.\n",
        "* Get rid of the whole attribute.\n",
        "* Set the values to some value (zero, the mean, the median, etc.)."
      ],
      "metadata": {
        "id": "BT7E1iBYg3xc"
      }
    },
    {
      "cell_type": "code",
      "source": [
        "from sklearn.impute import SimpleImputer\n",
        "imputer = SimpleImputer(strategy=\"median\")"
      ],
      "metadata": {
        "execution": {
          "iopub.status.busy": "2022-06-27T04:08:21.494193Z",
          "iopub.execute_input": "2022-06-27T04:08:21.495003Z",
          "iopub.status.idle": "2022-06-27T04:08:21.641286Z",
          "shell.execute_reply.started": "2022-06-27T04:08:21.494956Z",
          "shell.execute_reply": "2022-06-27T04:08:21.640439Z"
        },
        "trusted": true,
        "id": "mBSJKevng3xc"
      },
      "execution_count": null,
      "outputs": []
    },
    {
      "cell_type": "code",
      "source": [
        "housing_num = housing.drop(\"ocean_proximity\", axis=1)  # Since median can be calculated only on NUmerical attributes"
      ],
      "metadata": {
        "execution": {
          "iopub.status.busy": "2022-06-27T04:08:21.642364Z",
          "iopub.execute_input": "2022-06-27T04:08:21.642663Z",
          "iopub.status.idle": "2022-06-27T04:08:21.648237Z",
          "shell.execute_reply.started": "2022-06-27T04:08:21.642635Z",
          "shell.execute_reply": "2022-06-27T04:08:21.647434Z"
        },
        "trusted": true,
        "id": "vKKwu4ajg3xc"
      },
      "execution_count": null,
      "outputs": []
    },
    {
      "cell_type": "code",
      "source": [
        "# Now you can fit the imputer instance to the training data using the fit() method:\n",
        "imputer.fit(housing_num)"
      ],
      "metadata": {
        "execution": {
          "iopub.status.busy": "2022-06-27T04:08:21.64916Z",
          "iopub.execute_input": "2022-06-27T04:08:21.649497Z",
          "iopub.status.idle": "2022-06-27T04:08:21.683506Z",
          "shell.execute_reply.started": "2022-06-27T04:08:21.649468Z",
          "shell.execute_reply": "2022-06-27T04:08:21.682747Z"
        },
        "trusted": true,
        "id": "n79efmiQg3xc"
      },
      "execution_count": null,
      "outputs": []
    },
    {
      "cell_type": "code",
      "source": [
        "imputer.statistics_"
      ],
      "metadata": {
        "execution": {
          "iopub.status.busy": "2022-06-27T04:08:21.684447Z",
          "iopub.execute_input": "2022-06-27T04:08:21.685295Z",
          "iopub.status.idle": "2022-06-27T04:08:21.690568Z",
          "shell.execute_reply.started": "2022-06-27T04:08:21.685262Z",
          "shell.execute_reply": "2022-06-27T04:08:21.68994Z"
        },
        "trusted": true,
        "id": "4b_J77cMg3xc"
      },
      "execution_count": null,
      "outputs": []
    },
    {
      "cell_type": "markdown",
      "source": [
        "Only the total_bedrooms attribute had missing\n",
        "values, but we cannot be sure that there won’t be any missing values in new data after\n",
        "the system goes live, so it is safer to apply the imputer to all the numerical attributes:"
      ],
      "metadata": {
        "id": "BCuKXTnhg3xd"
      }
    },
    {
      "cell_type": "code",
      "source": [
        "housing_num.median().values"
      ],
      "metadata": {
        "execution": {
          "iopub.status.busy": "2022-06-27T04:08:21.691683Z",
          "iopub.execute_input": "2022-06-27T04:08:21.692293Z",
          "iopub.status.idle": "2022-06-27T04:08:21.706925Z",
          "shell.execute_reply.started": "2022-06-27T04:08:21.692261Z",
          "shell.execute_reply": "2022-06-27T04:08:21.706167Z"
        },
        "trusted": true,
        "id": "EXAomyY_g3xd"
      },
      "execution_count": null,
      "outputs": []
    },
    {
      "cell_type": "markdown",
      "source": [
        "Now you can use this “trained” imputer to transform the training set by replacing\n",
        "missing values by the learned medians"
      ],
      "metadata": {
        "id": "0U6QBtDng3xd"
      }
    },
    {
      "cell_type": "code",
      "source": [
        "X = imputer.transform(housing_num)         # X = plain NumPy array containing the transformed features\n",
        "housing_tr = pd.DataFrame(X, columns=housing_num.columns)"
      ],
      "metadata": {
        "execution": {
          "iopub.status.busy": "2022-06-27T04:08:21.70802Z",
          "iopub.execute_input": "2022-06-27T04:08:21.708788Z",
          "iopub.status.idle": "2022-06-27T04:08:21.71577Z",
          "shell.execute_reply.started": "2022-06-27T04:08:21.708745Z",
          "shell.execute_reply": "2022-06-27T04:08:21.715152Z"
        },
        "trusted": true,
        "id": "jEeShCM0g3xd"
      },
      "execution_count": null,
      "outputs": []
    },
    {
      "cell_type": "markdown",
      "source": [
        "### Handling Text and Categorical Attributes\n"
      ],
      "metadata": {
        "id": "iLpxFgAZg3xd"
      }
    },
    {
      "cell_type": "code",
      "source": [
        "housing_cat = housing[[\"ocean_proximity\"]]"
      ],
      "metadata": {
        "execution": {
          "iopub.status.busy": "2022-06-27T04:08:21.716898Z",
          "iopub.execute_input": "2022-06-27T04:08:21.71736Z",
          "iopub.status.idle": "2022-06-27T04:08:21.727302Z",
          "shell.execute_reply.started": "2022-06-27T04:08:21.71733Z",
          "shell.execute_reply": "2022-06-27T04:08:21.726311Z"
        },
        "trusted": true,
        "id": "ucw0xk34g3xd"
      },
      "execution_count": null,
      "outputs": []
    },
    {
      "cell_type": "markdown",
      "source": [
        "Now, we convert text attribute `ocean_proximity` into numerical attribute."
      ],
      "metadata": {
        "id": "On74urwEg3xd"
      }
    },
    {
      "cell_type": "code",
      "source": [
        "from sklearn.preprocessing import OrdinalEncoder\n",
        "ordinal_encoder=OrdinalEncoder()\n",
        "housing_cat_encoded = ordinal_encoder.fit_transform(housing_cat)\n",
        "housing_cat_encoded[:10]"
      ],
      "metadata": {
        "execution": {
          "iopub.status.busy": "2022-06-27T04:08:21.72847Z",
          "iopub.execute_input": "2022-06-27T04:08:21.728846Z",
          "iopub.status.idle": "2022-06-27T04:08:21.748883Z",
          "shell.execute_reply.started": "2022-06-27T04:08:21.728816Z",
          "shell.execute_reply": "2022-06-27T04:08:21.747913Z"
        },
        "trusted": true,
        "id": "kJ7Dxbs2g3xd"
      },
      "execution_count": null,
      "outputs": []
    },
    {
      "cell_type": "code",
      "source": [
        "ordinal_encoder.categories_     # get the list of  categories"
      ],
      "metadata": {
        "execution": {
          "iopub.status.busy": "2022-06-27T04:08:21.75004Z",
          "iopub.execute_input": "2022-06-27T04:08:21.750378Z",
          "iopub.status.idle": "2022-06-27T04:08:21.755956Z",
          "shell.execute_reply.started": "2022-06-27T04:08:21.750351Z",
          "shell.execute_reply": "2022-06-27T04:08:21.755256Z"
        },
        "trusted": true,
        "id": "uUx27B6Kg3xd"
      },
      "execution_count": null,
      "outputs": []
    },
    {
      "cell_type": "markdown",
      "source": [
        "* Issue with Ordinal Encoding is that ML algorithms will assume that **two nearby\n",
        "values are more similar than two distant values**.\n",
        "* This may be fine in some cases (e.g.,\n",
        "for ordered categories such as “bad”, “average”, “good”, “excellent”), but it is obviously\n",
        "not the case for the ocean_proximity column (for example, categories 0 and 4 are\n",
        "clearly more similar than categories 0 and 1)"
      ],
      "metadata": {
        "id": "-yaB_xIFg3xd"
      }
    },
    {
      "cell_type": "markdown",
      "source": [
        "So, let's use One Hot Encoder in place."
      ],
      "metadata": {
        "id": "pvOjg-Afg3xd"
      }
    },
    {
      "cell_type": "code",
      "source": [
        "from sklearn.preprocessing import OneHotEncoder\n",
        "cat_encoder = OneHotEncoder()\n",
        "housing_cat_1hot = cat_encoder.fit_transform(housing_cat)\n",
        "housing_cat_1hot"
      ],
      "metadata": {
        "execution": {
          "iopub.status.busy": "2022-06-27T04:08:21.757576Z",
          "iopub.execute_input": "2022-06-27T04:08:21.758276Z",
          "iopub.status.idle": "2022-06-27T04:08:21.776367Z",
          "shell.execute_reply.started": "2022-06-27T04:08:21.758234Z",
          "shell.execute_reply": "2022-06-27T04:08:21.775172Z"
        },
        "trusted": true,
        "id": "a66ZvWo8g3xd"
      },
      "execution_count": null,
      "outputs": []
    },
    {
      "cell_type": "code",
      "source": [
        "housing_cat_1hot.toarray()"
      ],
      "metadata": {
        "execution": {
          "iopub.status.busy": "2022-06-27T04:08:21.777748Z",
          "iopub.execute_input": "2022-06-27T04:08:21.778212Z",
          "iopub.status.idle": "2022-06-27T04:08:21.792377Z",
          "shell.execute_reply.started": "2022-06-27T04:08:21.778168Z",
          "shell.execute_reply": "2022-06-27T04:08:21.791441Z"
        },
        "trusted": true,
        "id": "p1VmVqJYg3xe"
      },
      "execution_count": null,
      "outputs": []
    },
    {
      "cell_type": "markdown",
      "source": [
        "### Custom Transformers"
      ],
      "metadata": {
        "id": "F24hbbPrg3xe"
      }
    },
    {
      "cell_type": "markdown",
      "source": [
        "* Although Scikit-Learn provides many useful transformers, you will need to write\n",
        "your own for tasks such as `custom cleanup operations or combining specific\n",
        "attributes`.\n",
        "* You will want your transformer to work seamlessly with Scikit-Learn functionalities\n",
        "(such as pipelines)."
      ],
      "metadata": {
        "id": "YTCKkTygg3xe"
      }
    },
    {
      "cell_type": "markdown",
      "source": [
        "To Create Custom Transformers all you need is to create a `class and implement three methods`: **fit()\n",
        "(returning self), transform(), and fit_transform().**"
      ],
      "metadata": {
        "id": "-_nphtW3g3xe"
      }
    },
    {
      "cell_type": "markdown",
      "source": [
        "You can get the last one for free by simply adding **TransformerMixin** as a **base class**.\n",
        "* Also, if you add BaseEstimator as a base class (and avoid *args and **kargs in your constructor) you will get\n",
        "two extra methods `(get_params() and set_params())` that will be useful for automatic hyperparameter tuning. For example, here is a small transformer class that adds the combined attributes we discussed earlier."
      ],
      "metadata": {
        "id": "kCRVHslNg3xe"
      }
    },
    {
      "cell_type": "code",
      "source": [
        "from sklearn.base import BaseEstimator, TransformerMixin\n",
        "rooms_ix, bedrooms_ix, population_ix, households_ix = 3, 4, 5, 6\n",
        "class CombinedAttributesAdder(BaseEstimator, TransformerMixin):\n",
        "\n",
        "    def __init__(self, add_bedrooms_per_room = True): # no *args or **kargs\n",
        "        self.add_bedrooms_per_room = add_bedrooms_per_room\n",
        "\n",
        "    def fit(self, X, y=None):\n",
        "        return self # nothing else to do\n",
        "\n",
        "    def transform(self, X, y=None):\n",
        "        rooms_per_household = X[:, rooms_ix] / X[:, households_ix]\n",
        "        population_per_household = X[:, population_ix] / X[:, households_ix]\n",
        "        if self.add_bedrooms_per_room:\n",
        "            bedrooms_per_room = X[:, bedrooms_ix] / X[:, rooms_ix]\n",
        "            return np.c_[X, rooms_per_household, population_per_household,\n",
        "            bedrooms_per_room]\n",
        "        else:\n",
        "            return np.c_[X, rooms_per_household, population_per_household]\n",
        "\n",
        "attr_adder = CombinedAttributesAdder(add_bedrooms_per_room=False)\n",
        "housing_extra_attribs = attr_adder.transform(housing.values)"
      ],
      "metadata": {
        "execution": {
          "iopub.status.busy": "2022-06-27T04:08:21.793508Z",
          "iopub.execute_input": "2022-06-27T04:08:21.793941Z",
          "iopub.status.idle": "2022-06-27T04:08:21.814032Z",
          "shell.execute_reply.started": "2022-06-27T04:08:21.793912Z",
          "shell.execute_reply": "2022-06-27T04:08:21.813281Z"
        },
        "trusted": true,
        "id": "R56kTop-g3xe"
      },
      "execution_count": null,
      "outputs": []
    },
    {
      "cell_type": "markdown",
      "source": [
        "### Feature Scaling"
      ],
      "metadata": {
        "id": "lvoD7D5xg3xe"
      }
    },
    {
      "cell_type": "markdown",
      "source": [
        "* One of the most important transformations you need to apply to your data is feature\n",
        "scaling. With few exceptions, Machine Learning algorithms don’t perform well when\n",
        "the input numerical attributes have very different scales.\n",
        "* This is the case for the housing\n",
        "data: the total number of rooms ranges from about 6 to 39,320, while the **median\n",
        "incomes only range from 0 to 15**. Note that scaling the target values is generally not\n",
        "required."
      ],
      "metadata": {
        "id": "NJN-Z8w6g3xe"
      }
    },
    {
      "cell_type": "markdown",
      "source": [
        "There are two common ways to get all attributes to have the same scale: **min-max\n",
        "scaling** and **standardization**."
      ],
      "metadata": {
        "id": "BcOPcP-1g3xe"
      }
    },
    {
      "cell_type": "markdown",
      "source": [
        "#### Transformation Pipelines"
      ],
      "metadata": {
        "id": "sWA_BMs9g3xe"
      }
    },
    {
      "cell_type": "markdown",
      "source": [
        "* As you can see, there are many data transformation steps that need to be executed in\n",
        "the right order.\n",
        "* Fortunately, Scikit-Learn provides the Pipeline class to help with\n",
        "such sequences of transformations. Here is a small pipeline for the numerical\n",
        "attributes:"
      ],
      "metadata": {
        "execution": {
          "iopub.status.busy": "2022-06-20T14:18:56.287099Z",
          "iopub.execute_input": "2022-06-20T14:18:56.28764Z",
          "iopub.status.idle": "2022-06-20T14:18:56.298129Z",
          "shell.execute_reply.started": "2022-06-20T14:18:56.287605Z",
          "shell.execute_reply": "2022-06-20T14:18:56.296649Z"
        },
        "id": "IsnNJYNUg3xe"
      }
    },
    {
      "cell_type": "code",
      "source": [
        "from sklearn.pipeline import Pipeline\n",
        "from sklearn.preprocessing import StandardScaler\n",
        "num_pipeline = Pipeline([\n",
        "    ('imputer', SimpleImputer(strategy=\"median\")),      # Imputing Missing values\n",
        "    ('attribs_adder', CombinedAttributesAdder()),       # Adding attribs\n",
        "    ('std_scaler', StandardScaler()),                    # Feature Scaling with Standard Scaler\n",
        "    ])\n",
        "housing_num_tr = num_pipeline.fit_transform(housing_num)"
      ],
      "metadata": {
        "execution": {
          "iopub.status.busy": "2022-06-27T04:08:21.815191Z",
          "iopub.execute_input": "2022-06-27T04:08:21.815639Z",
          "iopub.status.idle": "2022-06-27T04:08:21.849353Z",
          "shell.execute_reply.started": "2022-06-27T04:08:21.81561Z",
          "shell.execute_reply": "2022-06-27T04:08:21.848386Z"
        },
        "trusted": true,
        "id": "2728Foq8g3xe"
      },
      "execution_count": null,
      "outputs": []
    },
    {
      "cell_type": "markdown",
      "source": [
        "* So far, we have handled the **categorical columns** and the **numerical columns** separately.\n",
        "* It would be more convenient to have a single transformer able to handle all columns,\n",
        "applying the appropriate transformations to each column.\n",
        "* In Scikit-Learn introduced the `ColumnTransformer` for this purpose.\n",
        "\n",
        "Let’s use it to apply all the transformations to the housing data:"
      ],
      "metadata": {
        "id": "HwGo6QsUg3xf"
      }
    },
    {
      "cell_type": "code",
      "source": [
        "from sklearn.compose import ColumnTransformer\n",
        "num_attribs = list(housing_num)             # columns with numerical attributes\n",
        "cat_attribs = [\"ocean_proximity\"]           # columns with categorical attributes\n",
        "full_pipeline = ColumnTransformer([\n",
        "      (\"num\", num_pipeline, num_attribs),\n",
        "      (\"cat\", OneHotEncoder(), cat_attribs),\n",
        "    ])\n",
        "housing_prepared = full_pipeline.fit_transform(housing)"
      ],
      "metadata": {
        "execution": {
          "iopub.status.busy": "2022-06-27T04:08:21.850608Z",
          "iopub.execute_input": "2022-06-27T04:08:21.850949Z",
          "iopub.status.idle": "2022-06-27T04:08:21.901796Z",
          "shell.execute_reply.started": "2022-06-27T04:08:21.850919Z",
          "shell.execute_reply": "2022-06-27T04:08:21.901056Z"
        },
        "trusted": true,
        "id": "k1QAkspog3xf"
      },
      "execution_count": null,
      "outputs": []
    },
    {
      "cell_type": "markdown",
      "source": [
        "* Note that the OneHotEncoder returns a sparse matrix, while the num_pipeline returns\n",
        "a dense matrix.\n",
        "* When there is such a mix of **sparse and dense matrices**, the `Column Transformer estimates the density of the final matrix (i.e., the ratio of non-zero cells)`, and it returns a sparse matrix if the density is lower than a given threshold (by\n",
        "default, sparse_threshold=0.3).\n",
        "* In this example, it returns a dense matrix. And\n",
        "that’s it! We have a preprocessing pipeline that takes the full housing data and applies\n",
        "the appropriate transformations to each column"
      ],
      "metadata": {
        "id": "mO-Ignjag3xf"
      }
    },
    {
      "cell_type": "code",
      "source": [
        "housing_prepared.shape"
      ],
      "metadata": {
        "execution": {
          "iopub.status.busy": "2022-06-27T04:08:21.902861Z",
          "iopub.execute_input": "2022-06-27T04:08:21.903391Z",
          "iopub.status.idle": "2022-06-27T04:08:21.910876Z",
          "shell.execute_reply.started": "2022-06-27T04:08:21.903353Z",
          "shell.execute_reply": "2022-06-27T04:08:21.909863Z"
        },
        "trusted": true,
        "id": "FaawUNNcg3xf"
      },
      "execution_count": null,
      "outputs": []
    },
    {
      "cell_type": "markdown",
      "source": [
        "# 5. Select and Train a Model"
      ],
      "metadata": {
        "id": "Li16dOUHg3xf"
      }
    },
    {
      "cell_type": "markdown",
      "source": [
        "Finally we have framed the problem, you got the data and explored it, you sampled a\n",
        "training set and a test set, and you wrote transformation pipelines to clean up and\n",
        "prepare your data for Machine Learning algorithms automatically.\n",
        "\n",
        "We are now ready\n",
        "to select and train a Machine Learning model."
      ],
      "metadata": {
        "id": "QIo28ufVg3xf"
      }
    },
    {
      "cell_type": "markdown",
      "source": [
        "### Training and Evaluating on the Training Set"
      ],
      "metadata": {
        "id": "3VRwNN3Eg3xf"
      }
    },
    {
      "cell_type": "markdown",
      "source": [
        "Let's train a Linear regression Model"
      ],
      "metadata": {
        "id": "wWFD86iig3xf"
      }
    },
    {
      "cell_type": "code",
      "source": [
        "from sklearn.linear_model import LinearRegression\n",
        "lin_reg=LinearRegression()\n",
        "lin_reg.fit(housing_prepared,housing_labels)\n"
      ],
      "metadata": {
        "execution": {
          "iopub.status.busy": "2022-06-27T04:08:21.912229Z",
          "iopub.execute_input": "2022-06-27T04:08:21.913264Z",
          "iopub.status.idle": "2022-06-27T04:08:21.952039Z",
          "shell.execute_reply.started": "2022-06-27T04:08:21.913219Z",
          "shell.execute_reply": "2022-06-27T04:08:21.950659Z"
        },
        "trusted": true,
        "id": "UUihK_Hcg3xf"
      },
      "execution_count": null,
      "outputs": []
    },
    {
      "cell_type": "markdown",
      "source": [
        "You now have a working Linear Regression model. Let’s try it out on a few\n",
        "instances from the training set:"
      ],
      "metadata": {
        "id": "4RcCG9hpg3xf"
      }
    },
    {
      "cell_type": "code",
      "source": [
        "some_data = housing.iloc[:5]\n",
        "some_labels = housing_labels.iloc[:5]\n",
        "\n",
        "some_data_prepared = full_pipeline.transform(some_data)\n",
        "\n",
        "print(\"Predictions:\", lin_reg.predict(some_data_prepared))\n",
        "\n",
        "print(\"Labels:\", list(some_labels))"
      ],
      "metadata": {
        "execution": {
          "iopub.status.busy": "2022-06-27T04:08:21.9542Z",
          "iopub.execute_input": "2022-06-27T04:08:21.961165Z",
          "iopub.status.idle": "2022-06-27T04:08:21.981775Z",
          "shell.execute_reply.started": "2022-06-27T04:08:21.961074Z",
          "shell.execute_reply": "2022-06-27T04:08:21.980763Z"
        },
        "trusted": true,
        "id": "oF4G9mN_g3xf"
      },
      "execution_count": null,
      "outputs": []
    },
    {
      "cell_type": "markdown",
      "source": [
        "Let’s measure this regression model’s RMSE on the whole training\n",
        "set using Scikit-Learn’s mean_squared_error function."
      ],
      "metadata": {
        "id": "LNByJgF1g3xg"
      }
    },
    {
      "cell_type": "code",
      "source": [
        "from sklearn.metrics import mean_squared_error\n",
        "housing_predictions=lin_reg.predict(housing_prepared)                 # predicting on training data\n",
        "lin_mse = mean_squared_error(housing_labels, housing_predictions)     # calculate mean squared error\n",
        "lin_rmse = np.sqrt(lin_mse)                                           # calculate root of mse\n",
        "print(\"RMSE:\",lin_rmse)\n",
        "print(\"R-Squared:\",lin_reg.score(housing_prepared,housing_labels))   # Return the R-squared"
      ],
      "metadata": {
        "execution": {
          "iopub.status.busy": "2022-06-27T04:08:21.983781Z",
          "iopub.execute_input": "2022-06-27T04:08:21.984546Z",
          "iopub.status.idle": "2022-06-27T04:08:22.036342Z",
          "shell.execute_reply.started": "2022-06-27T04:08:21.984492Z",
          "shell.execute_reply": "2022-06-27T04:08:22.033551Z"
        },
        "trusted": true,
        "id": "FIY3-AIwg3xg"
      },
      "execution_count": null,
      "outputs": []
    },
    {
      "cell_type": "code",
      "source": [
        "housing_labels.describe()"
      ],
      "metadata": {
        "execution": {
          "iopub.status.busy": "2022-06-27T04:08:22.039921Z",
          "iopub.execute_input": "2022-06-27T04:08:22.043526Z",
          "iopub.status.idle": "2022-06-27T04:08:22.067025Z",
          "shell.execute_reply.started": "2022-06-27T04:08:22.043466Z",
          "shell.execute_reply": "2022-06-27T04:08:22.066081Z"
        },
        "trusted": true,
        "id": "xgLNd5g6g3xg"
      },
      "execution_count": null,
      "outputs": []
    },
    {
      "cell_type": "markdown",
      "source": [
        "* Okay, this is better than nothing but clearly not a great score.\n",
        "* R-squared nearer to 1 better is our model.\n",
        "* This is an example of a **model underfitting** the training."
      ],
      "metadata": {
        "id": "ALmIHWANg3xg"
      }
    },
    {
      "cell_type": "markdown",
      "source": [
        "* The main ways to fix underfitting are to **select a more powerful model**, to feed the training algorithm with better features, or\n",
        "to reduce the constraints on the model."
      ],
      "metadata": {
        "id": "6m6IgGb-g3xg"
      }
    },
    {
      "cell_type": "markdown",
      "source": [
        "Let’s train a **DecisionTreeRegressor**. This is a powerful model, capable of finding\n",
        "complex nonlinear relationships in the data."
      ],
      "metadata": {
        "id": "1WAdAPukg3xg"
      }
    },
    {
      "cell_type": "code",
      "source": [
        "from sklearn.tree import DecisionTreeRegressor\n",
        "tree_reg=DecisionTreeRegressor()\n",
        "tree_reg.fit(housing_prepared,housing_labels)"
      ],
      "metadata": {
        "execution": {
          "iopub.status.busy": "2022-06-27T04:08:22.068607Z",
          "iopub.execute_input": "2022-06-27T04:08:22.069221Z",
          "iopub.status.idle": "2022-06-27T04:08:22.388157Z",
          "shell.execute_reply.started": "2022-06-27T04:08:22.069181Z",
          "shell.execute_reply": "2022-06-27T04:08:22.387431Z"
        },
        "trusted": true,
        "id": "gIuyIeVEg3xg"
      },
      "execution_count": null,
      "outputs": []
    },
    {
      "cell_type": "code",
      "source": [
        "# Evaluate it on Training set\n",
        "housing_predictions=tree_reg.predict(housing_prepared)\n",
        "dt_mse = mean_squared_error(housing_labels, housing_predictions)     # calculate mean squared error\n",
        "dt_rmse = np.sqrt(dt_mse)                                           # calculate root of mse\n",
        "print(\"RMSE:\",dt_rmse)\n",
        "print(\"R-Squared:\",tree_reg.score(housing_prepared,housing_labels))   # Return the R-squared"
      ],
      "metadata": {
        "execution": {
          "iopub.status.busy": "2022-06-27T04:08:22.38925Z",
          "iopub.execute_input": "2022-06-27T04:08:22.38969Z",
          "iopub.status.idle": "2022-06-27T04:08:22.40903Z",
          "shell.execute_reply.started": "2022-06-27T04:08:22.389661Z",
          "shell.execute_reply": "2022-06-27T04:08:22.40813Z"
        },
        "trusted": true,
        "id": "Sri7QDqXg3xg"
      },
      "execution_count": null,
      "outputs": []
    },
    {
      "cell_type": "markdown",
      "source": [
        "* **Wait, what!**? No error at all? Could this model really be absolutely perfect? Of course,\n",
        "it is much more likely that the model has badly **overfit the data**.\n",
        "* As we saw earlier, you don’t want to touch the **test set** until you are ready to launch a\n",
        "model you are confident about, so you need to use part of the training set for training,\n",
        "and part for **model validation**."
      ],
      "metadata": {
        "id": "VDnhsFHcg3xg"
      }
    },
    {
      "cell_type": "markdown",
      "source": [
        "### Better Evaluation Using Cross-Validation"
      ],
      "metadata": {
        "id": "DdGrZ5IHg3xg"
      }
    },
    {
      "cell_type": "markdown",
      "source": [
        "* We will use [K-fold Cross Validation](https://machinelearningmastery.com/k-fold-cross-validation/) to Reduce Overfitting and  Better Evaluate the Model.\n",
        "* We will use Scikit-Learn’s K-fold cross-validation feature.\n",
        "* The following code randomly splits the training set into 10 distinct subsets called folds, then it trains and evaluates the Decision Tree model 10 times, picking a different fold for evaluation every time and training on the other 9 folds.\n",
        "* The result is an array containing the 10 evaluation scores"
      ],
      "metadata": {
        "id": "DXhamEtZg3xg"
      }
    },
    {
      "cell_type": "code",
      "source": [
        "from sklearn.model_selection import cross_val_score\n",
        "scores=cross_val_score(tree_reg,housing_prepared,housing_labels,scoring=\"neg_mean_squared_error\", cv=10)\n",
        "tree_rmse_scores = np.sqrt(-scores)"
      ],
      "metadata": {
        "execution": {
          "iopub.status.busy": "2022-06-27T04:08:22.410257Z",
          "iopub.execute_input": "2022-06-27T04:08:22.410591Z",
          "iopub.status.idle": "2022-06-27T04:08:24.749859Z",
          "shell.execute_reply.started": "2022-06-27T04:08:22.410562Z",
          "shell.execute_reply": "2022-06-27T04:08:24.749159Z"
        },
        "trusted": true,
        "id": "uA5Ww6eVg3xg"
      },
      "execution_count": null,
      "outputs": []
    },
    {
      "cell_type": "markdown",
      "source": [
        "Scikit-Learn’s **cross-validation features** expect a utility function\n",
        "(greater is better) rather than a cost function (lower is better), so\n",
        "the **scoring function is actually the opposite of the MSE** (i.e., a negative\n",
        "value), which is why the preceding code computes -scores\n",
        "before calculating the square root."
      ],
      "metadata": {
        "id": "LO-fINNSg3xh"
      }
    },
    {
      "cell_type": "code",
      "source": [
        "print(tree_rmse_scores)\n",
        "print(\"Mean:\", tree_rmse_scores.mean())\n",
        "print(\"Standard deviation:\", tree_rmse_scores.std())\n"
      ],
      "metadata": {
        "execution": {
          "iopub.status.busy": "2022-06-27T04:08:24.751171Z",
          "iopub.execute_input": "2022-06-27T04:08:24.752243Z",
          "iopub.status.idle": "2022-06-27T04:08:24.758593Z",
          "shell.execute_reply.started": "2022-06-27T04:08:24.752189Z",
          "shell.execute_reply": "2022-06-27T04:08:24.757685Z"
        },
        "trusted": true,
        "id": "PGcqkMXqg3xh"
      },
      "execution_count": null,
      "outputs": []
    },
    {
      "cell_type": "markdown",
      "source": [
        "**The Decision Tree model is overfitting so badly that it performs worse than the Linear Regression model.**"
      ],
      "metadata": {
        "id": "aWs0oFFVg3xh"
      }
    },
    {
      "cell_type": "markdown",
      "source": [
        "* Now the Decision Tree doesn’t look as good as it did earlier. In fact, it seems to perform\n",
        "worse than the Linear Regression model! Notice that cross-validation allows\n",
        "you to get not only an estimate of the performance of your model, but also a measure\n",
        "of how precise this estimate is (i.e., its standard deviation).\n",
        "* The Decision Tree has a\n",
        "score of approximately 71,407, generally ±2,439. You would not have this information\n",
        "if you just used one validation set. But cross-validation comes at the cost of training\n",
        "the model several times, so it is not always possible."
      ],
      "metadata": {
        "execution": {
          "iopub.status.busy": "2022-06-21T15:46:34.827635Z",
          "iopub.execute_input": "2022-06-21T15:46:34.828011Z",
          "iopub.status.idle": "2022-06-21T15:46:34.836602Z",
          "shell.execute_reply.started": "2022-06-21T15:46:34.82798Z",
          "shell.execute_reply": "2022-06-21T15:46:34.835635Z"
        },
        "id": "-0Kiu9yJg3xh"
      }
    },
    {
      "cell_type": "markdown",
      "source": [
        "Let’s try one last model with the RandomForestRegressor. As RAndom Forest is build up with multiple Decision trees . So it will help in Overfitting of model."
      ],
      "metadata": {
        "id": "2pUbtn7Zg3xh"
      }
    },
    {
      "cell_type": "code",
      "source": [
        "from sklearn.ensemble import RandomForestRegressor\n",
        "forest_reg = RandomForestRegressor()\n",
        "forest_reg.fit(housing_prepared, housing_labels)"
      ],
      "metadata": {
        "execution": {
          "iopub.status.busy": "2022-06-27T04:08:24.760062Z",
          "iopub.execute_input": "2022-06-27T04:08:24.760743Z",
          "iopub.status.idle": "2022-06-27T04:08:40.570898Z",
          "shell.execute_reply.started": "2022-06-27T04:08:24.760701Z",
          "shell.execute_reply": "2022-06-27T04:08:40.569841Z"
        },
        "trusted": true,
        "id": "fBNZNeeZg3xh"
      },
      "execution_count": null,
      "outputs": []
    },
    {
      "cell_type": "code",
      "source": [
        "scores=cross_val_score(forest_reg,housing_prepared,housing_labels,scoring=\"neg_mean_squared_error\", cv=10)\n",
        "forest_rmse_scores = np.sqrt(-scores)"
      ],
      "metadata": {
        "execution": {
          "iopub.status.busy": "2022-06-27T04:08:40.572309Z",
          "iopub.execute_input": "2022-06-27T04:08:40.572717Z",
          "iopub.status.idle": "2022-06-27T04:11:01.301559Z",
          "shell.execute_reply.started": "2022-06-27T04:08:40.572684Z",
          "shell.execute_reply": "2022-06-27T04:11:01.300387Z"
        },
        "trusted": true,
        "id": "5tSZxmcAg3xh"
      },
      "execution_count": null,
      "outputs": []
    },
    {
      "cell_type": "code",
      "source": [
        "print(forest_rmse_scores)\n",
        "print(\"Mean:\", forest_rmse_scores.mean())\n",
        "print(\"Standard deviation:\", forest_rmse_scores.std())"
      ],
      "metadata": {
        "execution": {
          "iopub.status.busy": "2022-06-27T04:11:01.303341Z",
          "iopub.execute_input": "2022-06-27T04:11:01.303788Z",
          "iopub.status.idle": "2022-06-27T04:11:01.312508Z",
          "shell.execute_reply.started": "2022-06-27T04:11:01.303746Z",
          "shell.execute_reply": "2022-06-27T04:11:01.311393Z"
        },
        "trusted": true,
        "id": "wa1FTcGig3xh"
      },
      "execution_count": null,
      "outputs": []
    },
    {
      "cell_type": "markdown",
      "source": [
        "Wow, this is much better: Random Forests look very promising"
      ],
      "metadata": {
        "id": "NK-jszoIg3xh"
      }
    },
    {
      "cell_type": "markdown",
      "source": [
        "# 6. Fine-Tune Your Model"
      ],
      "metadata": {
        "id": "0_MtYpP0g3xh"
      }
    },
    {
      "cell_type": "markdown",
      "source": [
        "Let’s assume that you now have a shortlist of promising models. You now need to fine-tune them.\n",
        "Let’s look at a few ways you can do that"
      ],
      "metadata": {
        "id": "bxhPSJkGg3xh"
      }
    },
    {
      "cell_type": "markdown",
      "source": [
        "### Grid Search"
      ],
      "metadata": {
        "id": "0_vZzTSog3xh"
      }
    },
    {
      "cell_type": "markdown",
      "source": [
        "It will evaluate all the possible combinations of hyperparameter values,\n",
        "using cross-validation."
      ],
      "metadata": {
        "id": "cMYtI_qPg3xh"
      }
    },
    {
      "cell_type": "code",
      "source": [
        "from sklearn.model_selection import GridSearchCV"
      ],
      "metadata": {
        "execution": {
          "iopub.status.busy": "2022-06-27T04:11:01.314309Z",
          "iopub.execute_input": "2022-06-27T04:11:01.315299Z",
          "iopub.status.idle": "2022-06-27T04:11:01.323945Z",
          "shell.execute_reply.started": "2022-06-27T04:11:01.315249Z",
          "shell.execute_reply": "2022-06-27T04:11:01.322692Z"
        },
        "trusted": true,
        "id": "-Bet8NM5g3xi"
      },
      "execution_count": null,
      "outputs": []
    },
    {
      "cell_type": "code",
      "source": [
        "param_grid = [\n",
        "{'n_estimators': [3, 10, 30], 'max_features': [2, 4, 6, 8]},\n",
        "{'bootstrap': [False], 'n_estimators': [3, 10], 'max_features': [2, 3, 4]},\n",
        "]\n",
        "\n",
        "forest_reg = RandomForestRegressor()\n",
        "grid_search = GridSearchCV(forest_reg, param_grid, cv=5,\n",
        "scoring='neg_mean_squared_error',\n",
        "return_train_score=True)\n",
        "grid_search.fit(housing_prepared, housing_labels)"
      ],
      "metadata": {
        "execution": {
          "iopub.status.busy": "2022-06-27T04:11:01.324947Z",
          "iopub.execute_input": "2022-06-27T04:11:01.325506Z",
          "iopub.status.idle": "2022-06-27T04:11:54.730992Z",
          "shell.execute_reply.started": "2022-06-27T04:11:01.325476Z",
          "shell.execute_reply": "2022-06-27T04:11:54.729807Z"
        },
        "trusted": true,
        "id": "WZxu0zpfg3xi"
      },
      "execution_count": null,
      "outputs": []
    },
    {
      "cell_type": "markdown",
      "source": [
        "* This param_grid tells Scikit-Learn to first evaluate all 3 × 4 = 12 combinations of **n_estimators and max_features hyperparameter** values specified in the first dict.\n",
        "* Then try all 2 × 3 = 6 combinations of hyperparameter values in the\n",
        "second dict"
      ],
      "metadata": {
        "id": "Ny3H0j_8g3xi"
      }
    },
    {
      "cell_type": "code",
      "source": [
        "grid_search.best_params_"
      ],
      "metadata": {
        "execution": {
          "iopub.status.busy": "2022-06-27T04:11:54.732205Z",
          "iopub.execute_input": "2022-06-27T04:11:54.732534Z",
          "iopub.status.idle": "2022-06-27T04:11:54.738341Z",
          "shell.execute_reply.started": "2022-06-27T04:11:54.732507Z",
          "shell.execute_reply": "2022-06-27T04:11:54.737561Z"
        },
        "trusted": true,
        "id": "mA_Xm0-eg3xi"
      },
      "execution_count": null,
      "outputs": []
    },
    {
      "cell_type": "code",
      "source": [
        "grid_search.best_estimator_"
      ],
      "metadata": {
        "execution": {
          "iopub.status.busy": "2022-06-27T04:11:54.739343Z",
          "iopub.execute_input": "2022-06-27T04:11:54.739629Z",
          "iopub.status.idle": "2022-06-27T04:11:54.754696Z",
          "shell.execute_reply.started": "2022-06-27T04:11:54.739604Z",
          "shell.execute_reply": "2022-06-27T04:11:54.753791Z"
        },
        "trusted": true,
        "id": "RJMB_Pn1g3xi"
      },
      "execution_count": null,
      "outputs": []
    },
    {
      "cell_type": "code",
      "source": [
        "# the evaluation scores are also available\n",
        "cvres = grid_search.cv_results_\n",
        "for mean_score, params in zip(cvres[\"mean_test_score\"], cvres[\"params\"]):\n",
        "    print(np.sqrt(-mean_score), params)"
      ],
      "metadata": {
        "execution": {
          "iopub.status.busy": "2022-06-27T04:11:54.755834Z",
          "iopub.execute_input": "2022-06-27T04:11:54.756149Z",
          "iopub.status.idle": "2022-06-27T04:11:54.767473Z",
          "shell.execute_reply.started": "2022-06-27T04:11:54.756115Z",
          "shell.execute_reply": "2022-06-27T04:11:54.766649Z"
        },
        "trusted": true,
        "id": "i1bNAxmJg3xi"
      },
      "execution_count": null,
      "outputs": []
    },
    {
      "cell_type": "markdown",
      "source": [
        "### Result of fine-tunig\n",
        "* We obtain the best solution by setting the max_features hyperparameter\n",
        "to 8, and the n_estimators hyperparameter to 30.\n",
        "* The RMSE score for this combination is 49,682, which is slightly better than the score you got earlier using the\n",
        "default hyperparameter values (which was 50,182).\n",
        "* So, we are succesfully able to fine tune our model."
      ],
      "metadata": {
        "id": "QsyguvV_g3xi"
      }
    },
    {
      "cell_type": "markdown",
      "source": [
        "## Randomized Search"
      ],
      "metadata": {
        "id": "6Qi-oT7Kg3xi"
      }
    },
    {
      "cell_type": "markdown",
      "source": [
        "* The grid search approach is fine when you are exploring relatively few combinations,\n",
        "like in the previous example, but when the hyperparameter search space is large, it is\n",
        "often preferable to use **RandomizedSearchCV** instead.\n",
        "* This class can be used in much the same way as the GridSearchCV class, but instead of trying out all possible combinations,\n",
        "it evaluates a given number of random combinations by selecting a random value for each hyperparameter at every iteration.\n",
        "\n",
        "This approach has two main benefits:\n",
        "\n",
        "\n",
        "* If you let the randomized search run for, say, 1,000 iterations, this approach will\n",
        "explore 1,000 different values for each hyperparameter (instead of just a few values\n",
        "per hyperparameter with the grid search approach)\n",
        "* You have more control over the computing budget you want to allocate to hyperparameter\n",
        "search, simply by setting the number of iterations."
      ],
      "metadata": {
        "id": "_Ektwpyvg3xi"
      }
    },
    {
      "cell_type": "markdown",
      "source": [
        "# Ensemble Methods"
      ],
      "metadata": {
        "id": "dJEK1AkLg3xi"
      }
    },
    {
      "cell_type": "markdown",
      "source": [
        "* Another way to fine-tune your system is to try to combine the models that perform\n",
        "best.\n",
        "* The group (or “ensemble”) will often perform better than the best individual\n",
        "model (just like `Random Forests perform better than the individual Decision Trees`\n",
        "they rely on), especially if the individual models make very different types of errors."
      ],
      "metadata": {
        "execution": {
          "iopub.status.busy": "2022-06-27T02:40:03.243693Z",
          "iopub.execute_input": "2022-06-27T02:40:03.244127Z",
          "iopub.status.idle": "2022-06-27T02:40:03.416147Z",
          "shell.execute_reply.started": "2022-06-27T02:40:03.24409Z",
          "shell.execute_reply": "2022-06-27T02:40:03.4146Z"
        },
        "id": "Zui7CEnFg3xi"
      }
    },
    {
      "cell_type": "markdown",
      "source": [
        "## Analyze the Best Models and Their Errors"
      ],
      "metadata": {
        "id": "Qbuu9xRSg3xi"
      }
    },
    {
      "cell_type": "markdown",
      "source": [
        "* You will often gain good insights on the problem by inspecting the best models. F\n",
        "* For example, the *RandomForestRegressor* can indicate the relative importance of each\n",
        "attribute for making accurate predictions."
      ],
      "metadata": {
        "id": "Dv4-LPBdg3xi"
      }
    },
    {
      "cell_type": "code",
      "source": [
        "feature_importances = grid_search.best_estimator_.feature_importances_\n",
        "feature_importances"
      ],
      "metadata": {
        "execution": {
          "iopub.status.busy": "2022-06-27T04:11:54.768489Z",
          "iopub.execute_input": "2022-06-27T04:11:54.768899Z",
          "iopub.status.idle": "2022-06-27T04:11:54.794051Z",
          "shell.execute_reply.started": "2022-06-27T04:11:54.768871Z",
          "shell.execute_reply": "2022-06-27T04:11:54.793162Z"
        },
        "trusted": true,
        "id": "-fbF3XXSg3xi"
      },
      "execution_count": null,
      "outputs": []
    },
    {
      "cell_type": "markdown",
      "source": [
        "Let’s display these importance scores next to their corresponding attribute names:"
      ],
      "metadata": {
        "id": "84kP9Xxjg3xi"
      }
    },
    {
      "cell_type": "code",
      "source": [
        "extra_attribs = [\"rooms_per_hhold\", \"pop_per_hhold\", \"bedrooms_per_room\"]\n",
        "cat_encoder = full_pipeline.named_transformers_[\"cat\"]                   # use the categorical encoder of full pipeline\n",
        "cat_one_hot_attribs = list(cat_encoder.categories_[0])                   # categorical one hot attribute\n",
        "attributes = num_attribs + extra_attribs + cat_one_hot_attribs\n",
        "sorted(zip(feature_importances, attributes), reverse=True)"
      ],
      "metadata": {
        "execution": {
          "iopub.status.busy": "2022-06-27T04:11:54.795203Z",
          "iopub.execute_input": "2022-06-27T04:11:54.795524Z",
          "iopub.status.idle": "2022-06-27T04:11:54.804116Z",
          "shell.execute_reply.started": "2022-06-27T04:11:54.795498Z",
          "shell.execute_reply": "2022-06-27T04:11:54.803167Z"
        },
        "trusted": true,
        "id": "fSwRFOe7g3xj"
      },
      "execution_count": null,
      "outputs": []
    },
    {
      "cell_type": "markdown",
      "source": [
        "* With this information, you may want to try dropping some of the less useful features\n",
        "\n",
        "* You should also look at the specific errors that your system makes, then try to understand\n",
        "why it makes them and what could fix the problem (adding extra features or, on\n",
        "the contrary, getting rid of uninformative ones, cleaning up outliers, etc.)."
      ],
      "metadata": {
        "execution": {
          "iopub.status.busy": "2022-06-27T02:54:58.177126Z",
          "iopub.execute_input": "2022-06-27T02:54:58.177531Z",
          "iopub.status.idle": "2022-06-27T02:54:58.185692Z",
          "shell.execute_reply.started": "2022-06-27T02:54:58.177499Z",
          "shell.execute_reply": "2022-06-27T02:54:58.184277Z"
        },
        "id": "J1YNV-SUg3xj"
      }
    },
    {
      "cell_type": "markdown",
      "source": [
        "# 7. Evaluate Your System on the Test Set"
      ],
      "metadata": {
        "id": "5Uxqf-6Pg3xj"
      }
    },
    {
      "cell_type": "markdown",
      "source": [
        "* After tweaking your models for a while, you eventually have a system that performs\n",
        "sufficiently well.\n",
        "* Now is the time to evaluate the final model on the test set. There is\n",
        "nothing special about this process; just get the predictors and the labels from your\n",
        "test set, run your full_pipeline to transform the data (call transform(), not\n",
        "fit_transform(), you do not want to fit the test set!), and evaluate the final model\n",
        "on the test set:"
      ],
      "metadata": {
        "id": "NTGFlfZog3xj"
      }
    },
    {
      "cell_type": "code",
      "source": [
        "final_model = grid_search.best_estimator_\n",
        "X_test = strat_test_set.drop(\"median_house_value\", axis=1)\n",
        "y_test = strat_test_set[\"median_house_value\"].copy()\n",
        "X_test_prepared = full_pipeline.transform(X_test)\n",
        "final_predictions = final_model.predict(X_test_prepared)\n",
        "final_mse = mean_squared_error(y_test, final_predictions)\n",
        "final_rmse = np.sqrt(final_mse)\n",
        "print(final_rmse)"
      ],
      "metadata": {
        "execution": {
          "iopub.status.busy": "2022-06-27T04:11:54.805219Z",
          "iopub.execute_input": "2022-06-27T04:11:54.805523Z",
          "iopub.status.idle": "2022-06-27T04:11:54.873246Z",
          "shell.execute_reply.started": "2022-06-27T04:11:54.805496Z",
          "shell.execute_reply": "2022-06-27T04:11:54.872257Z"
        },
        "trusted": true,
        "id": "4looxu-mg3xj"
      },
      "execution_count": null,
      "outputs": []
    },
    {
      "cell_type": "markdown",
      "source": [
        "Finally we got 48209.81 RMSE on test dataset."
      ],
      "metadata": {
        "id": "C1TYlG7Zg3xj"
      }
    },
    {
      "cell_type": "markdown",
      "source": [
        "**I HOPE YOU GOT SOME LEARNING FROM THE NOTEBOOK.\n",
        "PLEASE UPVOTE IT.**"
      ],
      "metadata": {
        "execution": {
          "iopub.status.busy": "2022-06-27T04:47:50.895245Z",
          "iopub.execute_input": "2022-06-27T04:47:50.895644Z",
          "iopub.status.idle": "2022-06-27T04:47:50.910793Z",
          "shell.execute_reply.started": "2022-06-27T04:47:50.895612Z",
          "shell.execute_reply": "2022-06-27T04:47:50.909397Z"
        },
        "id": "207PQFMcg3xj"
      }
    },
    {
      "cell_type": "markdown",
      "source": [
        "### Reference\n",
        "Hands on Machine Learning with Scikit-learn and Tensorflow book."
      ],
      "metadata": {
        "id": "goZNO6aug3xj"
      }
    }
  ]
}